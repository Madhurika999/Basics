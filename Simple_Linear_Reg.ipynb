{
 "cells": [
  {
   "cell_type": "markdown",
   "id": "3fc47043-94d8-41f0-93a2-643fea4035de",
   "metadata": {},
   "source": [
    "# Linear Regression"
   ]
  },
  {
   "cell_type": "code",
   "execution_count": 2,
   "id": "99e5488a-1d0e-4a5c-bb2d-f15f3395442b",
   "metadata": {},
   "outputs": [],
   "source": [
    "%matplotlib inline\n",
    "import numpy as np\n",
    "import pandas as pd\n",
    "import matplotlib.pyplot as plt"
   ]
  },
  {
   "cell_type": "code",
   "execution_count": 3,
   "id": "d9c14cfe-3190-4d9d-bd42-2a024a918c68",
   "metadata": {},
   "outputs": [
    {
     "name": "stdout",
     "output_type": "stream",
     "text": [
      "(237, 4)\n"
     ]
    },
    {
     "data": {
      "text/html": [
       "<div>\n",
       "<style scoped>\n",
       "    .dataframe tbody tr th:only-of-type {\n",
       "        vertical-align: middle;\n",
       "    }\n",
       "\n",
       "    .dataframe tbody tr th {\n",
       "        vertical-align: top;\n",
       "    }\n",
       "\n",
       "    .dataframe thead th {\n",
       "        text-align: right;\n",
       "    }\n",
       "</style>\n",
       "<table border=\"1\" class=\"dataframe\">\n",
       "  <thead>\n",
       "    <tr style=\"text-align: right;\">\n",
       "      <th></th>\n",
       "      <th>Gender</th>\n",
       "      <th>Age Range</th>\n",
       "      <th>Head Size(cm^3)</th>\n",
       "      <th>Brain Weight(grams)</th>\n",
       "    </tr>\n",
       "  </thead>\n",
       "  <tbody>\n",
       "    <tr>\n",
       "      <th>0</th>\n",
       "      <td>1</td>\n",
       "      <td>1</td>\n",
       "      <td>4512</td>\n",
       "      <td>1530</td>\n",
       "    </tr>\n",
       "    <tr>\n",
       "      <th>1</th>\n",
       "      <td>1</td>\n",
       "      <td>1</td>\n",
       "      <td>3738</td>\n",
       "      <td>1297</td>\n",
       "    </tr>\n",
       "    <tr>\n",
       "      <th>2</th>\n",
       "      <td>1</td>\n",
       "      <td>1</td>\n",
       "      <td>4261</td>\n",
       "      <td>1335</td>\n",
       "    </tr>\n",
       "    <tr>\n",
       "      <th>3</th>\n",
       "      <td>1</td>\n",
       "      <td>1</td>\n",
       "      <td>3777</td>\n",
       "      <td>1282</td>\n",
       "    </tr>\n",
       "    <tr>\n",
       "      <th>4</th>\n",
       "      <td>1</td>\n",
       "      <td>1</td>\n",
       "      <td>4177</td>\n",
       "      <td>1590</td>\n",
       "    </tr>\n",
       "  </tbody>\n",
       "</table>\n",
       "</div>"
      ],
      "text/plain": [
       "   Gender  Age Range  Head Size(cm^3)  Brain Weight(grams)\n",
       "0       1          1             4512                 1530\n",
       "1       1          1             3738                 1297\n",
       "2       1          1             4261                 1335\n",
       "3       1          1             3777                 1282\n",
       "4       1          1             4177                 1590"
      ]
     },
     "execution_count": 3,
     "metadata": {},
     "output_type": "execute_result"
    }
   ],
   "source": [
    "plt.rcParams['figure.figsize'] = (20.0, 10.0)\n",
    "#Reading Data\n",
    "data = pd.read_csv('headbrain.csv')\n",
    "print(data.shape)\n",
    "data.head()"
   ]
  },
  {
   "cell_type": "code",
   "execution_count": 4,
   "id": "2190a8f2-f34a-4474-9435-c2acda321dc1",
   "metadata": {},
   "outputs": [],
   "source": [
    "#Collecting X(Independent) and Y (dependent)values \n",
    "\n",
    "Y = data['Brain Weight(grams)'].values\n",
    "X = data['Head Size(cm^3)'].values"
   ]
  },
  {
   "cell_type": "code",
   "execution_count": 5,
   "id": "cf4c61a9-9af4-4842-a44a-a02fd934f1ad",
   "metadata": {},
   "outputs": [
    {
     "name": "stdout",
     "output_type": "stream",
     "text": [
      "0.26342933948939945 325.57342104944223\n"
     ]
    }
   ],
   "source": [
    "mean_x = np.mean(X)\n",
    "mean_y = np.mean(Y)\n",
    "\n",
    "n = len(X)\n",
    "#using the formula calculating slope b1 and intercept c\n",
    "numer =0 ; denom =0 \n",
    "for i in range(n):\n",
    "    numer += (X[i] - mean_x)* (Y[i] - mean_y)\n",
    "    denom += (X[i] - mean_x)**2\n",
    "b1 = numer/denom\n",
    "b0 = mean_y - (b1*mean_x)\n",
    "\n",
    "#Print_coefficients\n",
    "print(b1,b0)"
   ]
  },
  {
   "cell_type": "code",
   "execution_count": 10,
   "id": "9104b57c-dba4-4ac2-9047-db0fcc4a9a0f",
   "metadata": {},
   "outputs": [
    {
     "name": "stdout",
     "output_type": "stream",
     "text": [
      "2620 4847\n"
     ]
    },
    {
     "data": {
      "image/png": "[encoded data removed]",
      "text/plain": [
       "<Figure size 576x360 with 1 Axes>"
      ]
     },
     "metadata": {
      "needs_background": "light"
     },
     "output_type": "display_data"
    }
   ],
   "source": [
    "#Plotting values and regression line\n",
    "\n",
    "max_X = np.max(X) +100\n",
    "min_X = np.min(X) -100\n",
    "print(min_X,max_X)\n",
    "\n",
    "#Calculating line values x and y\n",
    "x =np.linspace(min_X,max_X,1000)\n",
    "y = b0 + b1*x\n",
    "\n",
    "#Plotting line\n",
    "plt.figure(figsize=(8,5))\n",
    "plt.plot(x,y,color = '#00FF00', label = 'Regression Line')\n",
    "\n",
    "#Scatter Plot\n",
    "plt.scatter(X,Y,color = '#FFA500', label = 'Scatter Plot')\n",
    "plt.xlabel('Head Size(cm^3)')\n",
    "plt.ylabel('Brain Weight(grams)')\n",
    "#plt.legend()\n",
    "plt.show()"
   ]
  },
  {
   "cell_type": "code",
   "execution_count": 13,
   "id": "5e7b644c-5dc6-41ed-ae50-5b4a251f6bcc",
   "metadata": {},
   "outputs": [
    {
     "name": "stdout",
     "output_type": "stream",
     "text": [
      "0.6393117199570003\n"
     ]
    }
   ],
   "source": [
    "#Calculating R square value\n",
    "\n",
    "SS_t = 0 #Total sum of square\n",
    "SS_r = 0\n",
    "for i in range(n):\n",
    "    y_pred = b0 + b1* X[i]\n",
    "    SS_t += (Y[i] - mean_y )**2 \n",
    "    SS_r += (Y[i] - y_pred )**2 \n",
    "R2 =  1 - SS_r/SS_t\n",
    "print(R2)"
   ]
  },
  {
   "cell_type": "markdown",
   "id": "9dd5c7c1-75c5-4be3-be82-2f4f93277d30",
   "metadata": {},
   "source": [
    "# Using Scikit Learn"
   ]
  },
  {
   "cell_type": "code",
   "execution_count": 14,
   "id": "e3a39f1c-e025-406a-83dd-dee50c3a7ade",
   "metadata": {},
   "outputs": [],
   "source": [
    "from sklearn.linear_model import LinearRegression\n",
    "from sklearn.metrics import mean_squared_error\n"
   ]
  },
  {
   "cell_type": "code",
   "execution_count": 16,
   "id": "04121fb1-05cd-4de4-a9b4-5199e628640a",
   "metadata": {},
   "outputs": [
    {
     "name": "stdout",
     "output_type": "stream",
     "text": [
      "0.639311719957\n"
     ]
    }
   ],
   "source": [
    "\n",
    "X = X.reshape(n,1)\n",
    "\n",
    "#Creating model\n",
    "LM_model = LinearRegression()\n",
    "\n",
    "#Fitting Training data\n",
    "LM_model =LM_model.fit(X,Y)\n",
    "\n",
    "#Y prediction\n",
    "Y_pred = LM_model.predict(X)\n",
    "\n",
    "#calculating R2\n",
    "R2_Score = LM_model.score(X,Y)\n",
    "print(R2_Score)"
   ]
  },
  {
   "cell_type": "code",
   "execution_count": null,
   "id": "8bbd00dc-7595-4091-97aa-dcffac1b1af8",
   "metadata": {},
   "outputs": [],
   "source": []
  }
 ],
 "metadata": {
  "kernelspec": {
   "display_name": "Python 3 (ipykernel)",
   "language": "python",
   "name": "python3"
  },
  "language_info": {
   "codemirror_mode": {
    "name": "ipython",
    "version": 3
   },
   "file_extension": ".py",
   "mimetype": "text/x-python",
   "name": "python",
   "nbconvert_exporter": "python",
   "pygments_lexer": "ipython3",
   "version": "3.9.12"
  }
 },
 "nbformat": 4,
 "nbformat_minor": 5
}
